{
 "cells": [
  {
   "cell_type": "code",
   "execution_count": 1,
   "id": "04e88fed",
   "metadata": {},
   "outputs": [
    {
     "name": "stdout",
     "output_type": "stream",
     "text": [
      "Epoch 1/100\n",
      "47/47 [==============================] - 1s 2ms/step - loss: 0.8781 - accuracy: 0.7774\n",
      "Epoch 2/100\n",
      "47/47 [==============================] - 0s 2ms/step - loss: 0.4637 - accuracy: 0.8707\n",
      "Epoch 3/100\n",
      "47/47 [==============================] - 0s 2ms/step - loss: 0.4652 - accuracy: 0.8347\n",
      "Epoch 4/100\n",
      "47/47 [==============================] - 0s 2ms/step - loss: 0.5176 - accuracy: 0.8405\n",
      "Epoch 5/100\n",
      "47/47 [==============================] - 0s 2ms/step - loss: 0.4461 - accuracy: 0.8570\n",
      "Epoch 6/100\n",
      "47/47 [==============================] - 0s 1ms/step - loss: 0.4391 - accuracy: 0.8523\n",
      "Epoch 7/100\n",
      "47/47 [==============================] - 0s 1ms/step - loss: 0.4616 - accuracy: 0.8443\n",
      "Epoch 8/100\n",
      "47/47 [==============================] - 0s 1ms/step - loss: 0.4523 - accuracy: 0.8447\n",
      "Epoch 9/100\n",
      "47/47 [==============================] - 0s 1ms/step - loss: 0.3877 - accuracy: 0.8618\n",
      "Epoch 10/100\n",
      "47/47 [==============================] - 0s 1ms/step - loss: 0.3944 - accuracy: 0.8697\n",
      "Epoch 11/100\n",
      "47/47 [==============================] - 0s 1ms/step - loss: 0.4379 - accuracy: 0.8480\n",
      "Epoch 12/100\n",
      "47/47 [==============================] - 0s 2ms/step - loss: 0.4470 - accuracy: 0.8449\n",
      "Epoch 13/100\n",
      "47/47 [==============================] - 0s 1ms/step - loss: 0.4789 - accuracy: 0.8302\n",
      "Epoch 14/100\n",
      "47/47 [==============================] - 0s 2ms/step - loss: 0.4402 - accuracy: 0.8438\n",
      "Epoch 15/100\n",
      "47/47 [==============================] - 0s 2ms/step - loss: 0.4928 - accuracy: 0.8220\n",
      "Epoch 16/100\n",
      "47/47 [==============================] - 0s 2ms/step - loss: 0.4119 - accuracy: 0.8534\n",
      "Epoch 17/100\n",
      "47/47 [==============================] - 0s 2ms/step - loss: 0.4383 - accuracy: 0.8564\n",
      "Epoch 18/100\n",
      "47/47 [==============================] - 0s 2ms/step - loss: 0.4807 - accuracy: 0.8556\n",
      "Epoch 19/100\n",
      "47/47 [==============================] - 0s 1ms/step - loss: 0.4253 - accuracy: 0.8459\n",
      "Epoch 20/100\n",
      "47/47 [==============================] - 0s 1ms/step - loss: 0.4403 - accuracy: 0.8561\n",
      "Epoch 21/100\n",
      "47/47 [==============================] - 0s 2ms/step - loss: 0.4191 - accuracy: 0.8513\n",
      "Epoch 22/100\n",
      "47/47 [==============================] - 0s 1ms/step - loss: 0.4100 - accuracy: 0.8554\n",
      "Epoch 23/100\n",
      "47/47 [==============================] - 0s 1ms/step - loss: 0.4205 - accuracy: 0.8538\n",
      "Epoch 24/100\n",
      "47/47 [==============================] - 0s 1ms/step - loss: 0.4226 - accuracy: 0.8471\n",
      "Epoch 25/100\n",
      "47/47 [==============================] - 0s 1ms/step - loss: 0.4349 - accuracy: 0.8394\n",
      "Epoch 26/100\n",
      "47/47 [==============================] - 0s 1ms/step - loss: 0.4526 - accuracy: 0.8552\n",
      "Epoch 27/100\n",
      "47/47 [==============================] - 0s 1ms/step - loss: 0.4590 - accuracy: 0.8312\n",
      "Epoch 28/100\n",
      "47/47 [==============================] - 0s 2ms/step - loss: 0.4469 - accuracy: 0.8461\n",
      "Epoch 29/100\n",
      "47/47 [==============================] - 0s 1ms/step - loss: 0.3775 - accuracy: 0.8803\n",
      "Epoch 30/100\n",
      "47/47 [==============================] - 0s 1ms/step - loss: 0.3581 - accuracy: 0.8892\n",
      "Epoch 31/100\n",
      "47/47 [==============================] - 0s 2ms/step - loss: 0.4157 - accuracy: 0.8745\n",
      "Epoch 32/100\n",
      "47/47 [==============================] - 0s 2ms/step - loss: 0.4037 - accuracy: 0.8639\n",
      "Epoch 33/100\n",
      "47/47 [==============================] - 0s 1ms/step - loss: 0.4367 - accuracy: 0.8560\n",
      "Epoch 34/100\n",
      "47/47 [==============================] - 0s 1ms/step - loss: 0.3961 - accuracy: 0.8582\n",
      "Epoch 35/100\n",
      "47/47 [==============================] - 0s 2ms/step - loss: 0.4047 - accuracy: 0.8514\n",
      "Epoch 36/100\n",
      "47/47 [==============================] - 0s 1ms/step - loss: 0.4423 - accuracy: 0.8340\n",
      "Epoch 37/100\n",
      "47/47 [==============================] - 0s 1ms/step - loss: 0.4449 - accuracy: 0.8519\n",
      "Epoch 38/100\n",
      "47/47 [==============================] - 0s 1ms/step - loss: 0.4314 - accuracy: 0.8452\n",
      "Epoch 39/100\n",
      "47/47 [==============================] - 0s 1ms/step - loss: 0.4797 - accuracy: 0.8291\n",
      "Epoch 40/100\n",
      "47/47 [==============================] - 0s 1ms/step - loss: 0.4177 - accuracy: 0.8508\n",
      "Epoch 41/100\n",
      "47/47 [==============================] - 0s 1ms/step - loss: 0.4472 - accuracy: 0.8508\n",
      "Epoch 42/100\n",
      "47/47 [==============================] - 0s 1ms/step - loss: 0.4340 - accuracy: 0.8517\n",
      "Epoch 43/100\n",
      "47/47 [==============================] - 0s 1ms/step - loss: 0.3614 - accuracy: 0.8727\n",
      "Epoch 44/100\n",
      "47/47 [==============================] - 0s 2ms/step - loss: 0.3523 - accuracy: 0.8783\n",
      "Epoch 45/100\n",
      "47/47 [==============================] - 0s 1ms/step - loss: 0.3800 - accuracy: 0.8555\n",
      "Epoch 46/100\n",
      "47/47 [==============================] - 0s 2ms/step - loss: 0.4116 - accuracy: 0.8546\n",
      "Epoch 47/100\n",
      "47/47 [==============================] - 0s 1ms/step - loss: 0.3496 - accuracy: 0.8812\n",
      "Epoch 48/100\n",
      "47/47 [==============================] - 0s 1ms/step - loss: 0.3902 - accuracy: 0.8645\n",
      "Epoch 49/100\n",
      "47/47 [==============================] - 0s 1ms/step - loss: 0.4169 - accuracy: 0.8361\n",
      "Epoch 50/100\n",
      "47/47 [==============================] - 0s 2ms/step - loss: 0.3604 - accuracy: 0.8783\n",
      "Epoch 51/100\n",
      "47/47 [==============================] - 0s 1ms/step - loss: 0.4260 - accuracy: 0.8457\n",
      "Epoch 52/100\n",
      "47/47 [==============================] - 0s 1ms/step - loss: 0.4176 - accuracy: 0.8520\n",
      "Epoch 53/100\n",
      "47/47 [==============================] - 0s 1ms/step - loss: 0.4213 - accuracy: 0.8481\n",
      "Epoch 54/100\n",
      "47/47 [==============================] - 0s 1ms/step - loss: 0.4200 - accuracy: 0.8348\n",
      "Epoch 55/100\n",
      "47/47 [==============================] - 0s 1ms/step - loss: 0.4092 - accuracy: 0.8632\n",
      "Epoch 56/100\n",
      "47/47 [==============================] - 0s 1ms/step - loss: 0.3982 - accuracy: 0.8476\n",
      "Epoch 57/100\n",
      "47/47 [==============================] - 0s 1ms/step - loss: 0.4001 - accuracy: 0.8525\n",
      "Epoch 58/100\n",
      "47/47 [==============================] - 0s 1ms/step - loss: 0.3528 - accuracy: 0.8703\n",
      "Epoch 59/100\n",
      "47/47 [==============================] - 0s 2ms/step - loss: 0.4201 - accuracy: 0.8475\n",
      "Epoch 60/100\n",
      "47/47 [==============================] - 0s 2ms/step - loss: 0.3578 - accuracy: 0.8774\n",
      "Epoch 61/100\n",
      "47/47 [==============================] - 0s 2ms/step - loss: 0.3907 - accuracy: 0.8725\n",
      "Epoch 62/100\n",
      "47/47 [==============================] - 0s 1ms/step - loss: 0.4215 - accuracy: 0.8389\n",
      "Epoch 63/100\n",
      "47/47 [==============================] - 0s 2ms/step - loss: 0.3711 - accuracy: 0.8686\n",
      "Epoch 64/100\n",
      "47/47 [==============================] - 0s 2ms/step - loss: 0.4243 - accuracy: 0.8525\n",
      "Epoch 65/100\n",
      "47/47 [==============================] - 0s 1ms/step - loss: 0.3775 - accuracy: 0.8639\n",
      "Epoch 66/100\n",
      "47/47 [==============================] - 0s 1ms/step - loss: 0.4256 - accuracy: 0.8517\n",
      "Epoch 67/100\n",
      "47/47 [==============================] - 0s 1ms/step - loss: 0.3803 - accuracy: 0.8612\n",
      "Epoch 68/100\n",
      "47/47 [==============================] - 0s 1ms/step - loss: 0.4071 - accuracy: 0.8624\n",
      "Epoch 69/100\n",
      "47/47 [==============================] - 0s 1ms/step - loss: 0.4336 - accuracy: 0.8197\n",
      "Epoch 70/100\n",
      "47/47 [==============================] - 0s 1ms/step - loss: 0.4068 - accuracy: 0.8519\n",
      "Epoch 71/100\n",
      "47/47 [==============================] - 0s 2ms/step - loss: 0.4412 - accuracy: 0.8194\n",
      "Epoch 72/100\n",
      "47/47 [==============================] - 0s 2ms/step - loss: 0.3777 - accuracy: 0.8554\n",
      "Epoch 73/100\n",
      "47/47 [==============================] - 0s 2ms/step - loss: 0.4042 - accuracy: 0.8489\n",
      "Epoch 74/100\n",
      "47/47 [==============================] - 0s 1ms/step - loss: 0.3783 - accuracy: 0.8595\n",
      "Epoch 75/100\n",
      "47/47 [==============================] - 0s 2ms/step - loss: 0.3516 - accuracy: 0.8812\n",
      "Epoch 76/100\n",
      "47/47 [==============================] - 0s 1ms/step - loss: 0.3733 - accuracy: 0.8629\n",
      "Epoch 77/100\n",
      "47/47 [==============================] - 0s 1ms/step - loss: 0.4473 - accuracy: 0.8247\n",
      "Epoch 78/100\n",
      "47/47 [==============================] - 0s 1ms/step - loss: 0.3992 - accuracy: 0.8696\n",
      "Epoch 79/100\n",
      "47/47 [==============================] - 0s 1ms/step - loss: 0.4184 - accuracy: 0.8299\n",
      "Epoch 80/100\n",
      "47/47 [==============================] - 0s 1ms/step - loss: 0.4250 - accuracy: 0.8335\n",
      "Epoch 81/100\n",
      "47/47 [==============================] - 0s 1ms/step - loss: 0.3712 - accuracy: 0.8793\n",
      "Epoch 82/100\n",
      "47/47 [==============================] - 0s 1ms/step - loss: 0.4214 - accuracy: 0.8487\n",
      "Epoch 83/100\n"
     ]
    },
    {
     "name": "stdout",
     "output_type": "stream",
     "text": [
      "47/47 [==============================] - 0s 1ms/step - loss: 0.4450 - accuracy: 0.8381\n",
      "Epoch 84/100\n",
      "47/47 [==============================] - 0s 1ms/step - loss: 0.3537 - accuracy: 0.8840\n",
      "Epoch 85/100\n",
      "47/47 [==============================] - 0s 1ms/step - loss: 0.3822 - accuracy: 0.8617\n",
      "Epoch 86/100\n",
      "47/47 [==============================] - 0s 1ms/step - loss: 0.3410 - accuracy: 0.8688\n",
      "Epoch 87/100\n",
      "47/47 [==============================] - 0s 1ms/step - loss: 0.3933 - accuracy: 0.8567\n",
      "Epoch 88/100\n",
      "47/47 [==============================] - 0s 1ms/step - loss: 0.3747 - accuracy: 0.8538\n",
      "Epoch 89/100\n",
      "47/47 [==============================] - 0s 1ms/step - loss: 0.3942 - accuracy: 0.8320\n",
      "Epoch 90/100\n",
      "47/47 [==============================] - 0s 1ms/step - loss: 0.3722 - accuracy: 0.8768\n",
      "Epoch 91/100\n",
      "47/47 [==============================] - 0s 1ms/step - loss: 0.4208 - accuracy: 0.8516\n",
      "Epoch 92/100\n",
      "47/47 [==============================] - 0s 1ms/step - loss: 0.4239 - accuracy: 0.8407\n",
      "Epoch 93/100\n",
      "47/47 [==============================] - 0s 1ms/step - loss: 0.4079 - accuracy: 0.8362\n",
      "Epoch 94/100\n",
      "47/47 [==============================] - 0s 1ms/step - loss: 0.3913 - accuracy: 0.8367\n",
      "Epoch 95/100\n",
      "47/47 [==============================] - 0s 1ms/step - loss: 0.4023 - accuracy: 0.8584\n",
      "Epoch 96/100\n",
      "47/47 [==============================] - 0s 1ms/step - loss: 0.4342 - accuracy: 0.8596\n",
      "Epoch 97/100\n",
      "47/47 [==============================] - 0s 1ms/step - loss: 0.4469 - accuracy: 0.8137\n",
      "Epoch 98/100\n",
      "47/47 [==============================] - 0s 1ms/step - loss: 0.3893 - accuracy: 0.8690\n",
      "Epoch 99/100\n",
      "47/47 [==============================] - 0s 1ms/step - loss: 0.3737 - accuracy: 0.8620\n",
      "Epoch 100/100\n",
      "47/47 [==============================] - 0s 1ms/step - loss: 0.3956 - accuracy: 0.8330\n"
     ]
    },
    {
     "data": {
      "text/plain": [
       "<tensorflow.python.keras.callbacks.History at 0x24e48c60e80>"
      ]
     },
     "execution_count": 1,
     "metadata": {},
     "output_type": "execute_result"
    }
   ],
   "source": [
    "from tensorflow.keras.models import Sequential\n",
    "from tensorflow.keras.layers import Dense\n",
    "\n",
    "import numpy as np\n",
    "import tensorflow as tf\n",
    "\n",
    "np.random.seed(3)\n",
    "tf.random.set_seed(3)\n",
    "\n",
    "Data_set = np.loadtxt('ThoraricSurgery.csv', delimiter = ',')\n",
    "\n",
    "X = Data_set[:,0:17]\n",
    "Y = Data_set[:,17]\n",
    "\n",
    "model = Sequential()\n",
    "model.add(Dense(30, input_dim = 17, activation = 'relu'))\n",
    "model.add(Dense(1, activation = 'sigmoid'))\n",
    "\n",
    "model.compile(loss = 'binary_crossentropy', optimizer = 'adam', metrics = ['accuracy'])\n",
    "model.fit(X, Y, epochs = 100, batch_size = 10)"
   ]
  },
  {
   "cell_type": "code",
   "execution_count": 2,
   "id": "7a587424",
   "metadata": {},
   "outputs": [
    {
     "data": {
      "text/plain": [
       "array([[293.  ,   1.  ,   3.8 , ...,   0.  ,  62.  ,   0.  ],\n",
       "       [  1.  ,   2.  ,   2.88, ...,   0.  ,  60.  ,   0.  ],\n",
       "       [  8.  ,   2.  ,   3.19, ...,   0.  ,  66.  ,   1.  ],\n",
       "       ...,\n",
       "       [406.  ,   6.  ,   5.36, ...,   0.  ,  62.  ,   0.  ],\n",
       "       [ 25.  ,   8.  ,   4.32, ...,   0.  ,  58.  ,   1.  ],\n",
       "       [447.  ,   8.  ,   5.2 , ...,   0.  ,  49.  ,   0.  ]])"
      ]
     },
     "execution_count": 2,
     "metadata": {},
     "output_type": "execute_result"
    }
   ],
   "source": [
    "Data_set"
   ]
  },
  {
   "cell_type": "code",
   "execution_count": 3,
   "id": "acd86184",
   "metadata": {
    "scrolled": true
   },
   "outputs": [
    {
     "name": "stdout",
     "output_type": "stream",
     "text": [
      "Epoch 1/30\n",
      "200/200 [==============================] - 0s 1ms/step - loss: 7.3001 - mse: 7.3001\n",
      "Epoch 2/30\n",
      "200/200 [==============================] - 0s 998us/step - loss: 0.1786 - mse: 0.1786\n",
      "Epoch 3/30\n",
      "200/200 [==============================] - 0s 1ms/step - loss: 0.2220 - mse: 0.2220\n",
      "Epoch 4/30\n",
      "200/200 [==============================] - 0s 960us/step - loss: 0.1981 - mse: 0.1981\n",
      "Epoch 5/30\n",
      "200/200 [==============================] - 0s 1ms/step - loss: 0.1338 - mse: 0.1338\n",
      "Epoch 6/30\n",
      "200/200 [==============================] - 0s 991us/step - loss: 0.1325 - mse: 0.1325\n",
      "Epoch 7/30\n",
      "200/200 [==============================] - 0s 1ms/step - loss: 0.1126 - mse: 0.1126\n",
      "Epoch 8/30\n",
      "200/200 [==============================] - 0s 1ms/step - loss: 0.1068 - mse: 0.1068\n",
      "Epoch 9/30\n",
      "200/200 [==============================] - 0s 938us/step - loss: 0.1285 - mse: 0.1285\n",
      "Epoch 10/30\n",
      "200/200 [==============================] - 0s 923us/step - loss: 0.1045 - mse: 0.1045\n",
      "Epoch 11/30\n",
      "200/200 [==============================] - 0s 936us/step - loss: 0.1090 - mse: 0.1090\n",
      "Epoch 12/30\n",
      "200/200 [==============================] - 0s 1ms/step - loss: 0.1061 - mse: 0.1061A: 0s - loss: 0.1061 - mse: 0.106\n",
      "Epoch 13/30\n",
      "200/200 [==============================] - 0s 1ms/step - loss: 0.1057 - mse: 0.1057\n",
      "Epoch 14/30\n",
      "200/200 [==============================] - 0s 1ms/step - loss: 0.0909 - mse: 0.0909\n",
      "Epoch 15/30\n",
      "200/200 [==============================] - 0s 1ms/step - loss: 0.1071 - mse: 0.1071\n",
      "Epoch 16/30\n",
      "200/200 [==============================] - 0s 1ms/step - loss: 0.0935 - mse: 0.0935\n",
      "Epoch 17/30\n",
      "200/200 [==============================] - 0s 1ms/step - loss: 0.1013 - mse: 0.1013\n",
      "Epoch 18/30\n",
      "200/200 [==============================] - 0s 989us/step - loss: 0.1081 - mse: 0.1081\n",
      "Epoch 19/30\n",
      "200/200 [==============================] - 0s 1ms/step - loss: 0.0907 - mse: 0.0907\n",
      "Epoch 20/30\n",
      "200/200 [==============================] - 0s 989us/step - loss: 0.1063 - mse: 0.1063\n",
      "Epoch 21/30\n",
      "200/200 [==============================] - 0s 1ms/step - loss: 0.0984 - mse: 0.0984\n",
      "Epoch 22/30\n",
      "200/200 [==============================] - 0s 1ms/step - loss: 0.0840 - mse: 0.0840\n",
      "Epoch 23/30\n",
      "200/200 [==============================] - 0s 1ms/step - loss: 0.0907 - mse: 0.0907\n",
      "Epoch 24/30\n",
      "200/200 [==============================] - 0s 954us/step - loss: 0.0927 - mse: 0.0927\n",
      "Epoch 25/30\n",
      "200/200 [==============================] - 0s 972us/step - loss: 0.0895 - mse: 0.0895\n",
      "Epoch 26/30\n",
      "200/200 [==============================] - 0s 1ms/step - loss: 0.0932 - mse: 0.0932\n",
      "Epoch 27/30\n",
      "200/200 [==============================] - 0s 1ms/step - loss: 0.0810 - mse: 0.0810\n",
      "Epoch 28/30\n",
      "200/200 [==============================] - 0s 999us/step - loss: 0.0863 - mse: 0.0863\n",
      "Epoch 29/30\n",
      "200/200 [==============================] - 0s 965us/step - loss: 0.0988 - mse: 0.0988\n",
      "Epoch 30/30\n",
      "200/200 [==============================] - 0s 943us/step - loss: 0.0852 - mse: 0.0852\n"
     ]
    }
   ],
   "source": [
    "from tensorflow.keras.models import Sequential\n",
    "from tensorflow.keras.layers import Dense\n",
    "\n",
    "import numpy as np\n",
    "import tensorflow as tf\n",
    "from matplotlib import pyplot as plt\n",
    "\n",
    "X = data = np.linspace(1,2,200)\n",
    "Y = X * 4 + np.random.randn(200) * 0.3\n",
    "\n",
    "model = Sequential()\n",
    "model.add(Dense(1, input_dim = 1, activation = 'linear'))\n",
    "model.compile(optimizer = 'sgd', loss = 'mse', metrics = ['mse'])\n",
    "model.fit(X, Y, batch_size = 1, epochs = 30)\n",
    "\n",
    "predict = model.predict(data)\n"
   ]
  },
  {
   "cell_type": "code",
   "execution_count": 4,
   "id": "a45e7bcd",
   "metadata": {},
   "outputs": [
    {
     "data": {
      "image/png": "[encoded data removed]",
      "text/plain": [
       "<Figure size 432x288 with 1 Axes>"
      ]
     },
     "metadata": {
      "needs_background": "light"
     },
     "output_type": "display_data"
    }
   ],
   "source": [
    "plt.plot(data, predict, 'b', data, Y, 'k.') # 첫 번째 그래프는 파란색 마커로\n",
    "plt.show()"
   ]
  },
  {
   "cell_type": "markdown",
   "id": "cdc532b7",
   "metadata": {},
   "source": [
    "## 선형회귀"
   ]
  },
  {
   "cell_type": "code",
   "execution_count": 5,
   "id": "2f16ca0f",
   "metadata": {},
   "outputs": [
    {
     "name": "stdout",
     "output_type": "stream",
     "text": [
      "5.0 90.5\n",
      "20.0\n"
     ]
    }
   ],
   "source": [
    "import numpy as np\n",
    "\n",
    "x = [2, 4, 6, 8]\n",
    "y = [81, 93, 91, 97]\n",
    "mx = np.mean(x)\n",
    "my = np.mean(y)\n",
    "\n",
    "print(mx, my)\n",
    "list_arr = []\n",
    "divisor = sum((mx - i) ** 2 for i in x)\n",
    "    \n",
    "print(divisor)"
   ]
  },
  {
   "cell_type": "code",
   "execution_count": 6,
   "id": "35302f81",
   "metadata": {},
   "outputs": [],
   "source": [
    "def top(x, mx, y, my):\n",
    "    d = 0\n",
    "    for i in range(len(x)):\n",
    "        d += (x[i] - mx) * (y[i] - my)\n",
    "    return d"
   ]
  },
  {
   "cell_type": "code",
   "execution_count": 7,
   "id": "a9f00828",
   "metadata": {},
   "outputs": [],
   "source": [
    "dividend = top(x, mx, y, my)\n",
    "a = dividend / divisor"
   ]
  },
  {
   "cell_type": "code",
   "execution_count": 16,
   "id": "75cad7c7",
   "metadata": {},
   "outputs": [
    {
     "name": "stdout",
     "output_type": "stream",
     "text": [
      "2.3 79.0\n"
     ]
    }
   ],
   "source": [
    "b = my - (mx * a)\n",
    "print(a, b)"
   ]
  },
  {
   "cell_type": "code",
   "execution_count": 20,
   "id": "a3a815a3",
   "metadata": {},
   "outputs": [],
   "source": [
    "reg_y = []\n",
    "for i in x:\n",
    "    reg_y.append(a + (b * i))"
   ]
  },
  {
   "cell_type": "code",
   "execution_count": 22,
   "id": "16269411",
   "metadata": {},
   "outputs": [
    {
     "data": {
      "image/png": "[encoded data removed]",
      "text/plain": [
       "<Figure size 432x288 with 1 Axes>"
      ]
     },
     "metadata": {
      "needs_background": "light"
     },
     "output_type": "display_data"
    }
   ],
   "source": [
    "from matplotlib import pyplot as plt\n",
    "plt.scatter(x, y)\n",
    "plt.title(\"Time / Score\")\n",
    "plt.xlabel(\"study time (hour)\")\n",
    "plt.ylabel(\"score\")\n",
    "plt.show() "
   ]
  },
  {
   "cell_type": "code",
   "execution_count": 25,
   "id": "fe13bef1",
   "metadata": {},
   "outputs": [
    {
     "data": {
      "text/plain": [
       "[<matplotlib.lines.Line2D at 0x24e4c40e850>]"
      ]
     },
     "execution_count": 25,
     "metadata": {},
     "output_type": "execute_result"
    },
    {
     "data": {
      "image/png": "[encoded data removed]",
      "text/plain": [
       "<Figure size 432x288 with 1 Axes>"
      ]
     },
     "metadata": {
      "needs_background": "light"
     },
     "output_type": "display_data"
    }
   ],
   "source": [
    "from matplotlib import pyplot as plt\n",
    "predict = []\n",
    "for i in x:\n",
    "    pred_y = a * i + b\n",
    "    predict.append(pred_y)\n",
    "    \n",
    "plt.scatter(x, y, label = 'real')\n",
    "plt.plot(x, predict, c = 'r', label = 'reg')"
   ]
  },
  {
   "cell_type": "code",
   "execution_count": 37,
   "id": "dcffe5c6",
   "metadata": {},
   "outputs": [
    {
     "name": "stdout",
     "output_type": "stream",
     "text": [
      "5861.0\n"
     ]
    }
   ],
   "source": [
    "import numpy as np\n",
    "\n",
    "fake_a_b = [2, 4, 3, 79]\n",
    "data = [[2,81],[4,93],[6,91],[8,97]]\n",
    "x = [i[0] for i in data]\n",
    "y = [i[1] for i in data]\n",
    "\n",
    "def predict(x):\n",
    "    return fake_a_b[0]*x + fake_a_b[1]\n",
    "\n",
    "\n",
    "def mse(y, y_hat):\n",
    "    return ((y-y_hat)**2).mean()\n",
    "\n",
    "\n",
    "def mse_val(y, predict_result):\n",
    "    return mse(np.array(y), np.array(predict_result))\n",
    "\n",
    "predict_result = []\n",
    "\n",
    "for i in range(len(x)):\n",
    "    predict_result.append(predict(x[i]))\n",
    "    \n",
    "print(mse_val(y, predict_result))"
   ]
  },
  {
   "cell_type": "code",
   "execution_count": 40,
   "id": "3726a10b",
   "metadata": {},
   "outputs": [
    {
     "data": {
      "image/png": "[encoded data removed]",
      "text/plain": [
       "<Figure size 576x360 with 1 Axes>"
      ]
     },
     "metadata": {
      "needs_background": "light"
     },
     "output_type": "display_data"
    }
   ],
   "source": [
    "import numpy as np\n",
    "import pandas as pd\n",
    "import matplotlib.pyplot as plt\n",
    "\n",
    "data = [[2,81],[4,93],[6,91],[8,97]]\n",
    "x = [i[0] for i in data]\n",
    "y = [i[1] for i in data]\n",
    "\n",
    "plt.figure(figsize = (8, 5))\n",
    "plt.scatter(x, y)\n",
    "plt.show()"
   ]
  },
  {
   "cell_type": "code",
   "execution_count": 47,
   "id": "afc068ed",
   "metadata": {},
   "outputs": [
    {
     "name": "stdout",
     "output_type": "stream",
     "text": [
      "epoch = 0, 기울기 = 27.8400, 절편 = 5.4300\n",
      "epoch = 100, 기울기 = 7.0739, 절편 = 50.5117\n",
      "epoch = 200, 기울기 = 4.0960, 절편 = 68.2822\n",
      "epoch = 300, 기울기 = 2.9757, 절편 = 74.9678\n",
      "epoch = 400, 기울기 = 2.5542, 절편 = 77.4830\n",
      "epoch = 500, 기울기 = 2.3956, 절편 = 78.4293\n",
      "epoch = 600, 기울기 = 2.3360, 절편 = 78.7853\n",
      "epoch = 700, 기울기 = 2.3135, 절편 = 78.9192\n",
      "epoch = 800, 기울기 = 2.3051, 절편 = 78.9696\n",
      "epoch = 900, 기울기 = 2.3019, 절편 = 78.9886\n",
      "epoch = 1000, 기울기 = 2.3007, 절편 = 78.9957\n",
      "epoch = 1100, 기울기 = 2.3003, 절편 = 78.9984\n",
      "epoch = 1200, 기울기 = 2.3001, 절편 = 78.9994\n",
      "epoch = 1300, 기울기 = 2.3000, 절편 = 78.9998\n",
      "epoch = 1400, 기울기 = 2.3000, 절편 = 78.9999\n",
      "epoch = 1500, 기울기 = 2.3000, 절편 = 79.0000\n",
      "epoch = 1600, 기울기 = 2.3000, 절편 = 79.0000\n",
      "epoch = 1700, 기울기 = 2.3000, 절편 = 79.0000\n",
      "epoch = 1800, 기울기 = 2.3000, 절편 = 79.0000\n",
      "epoch = 1900, 기울기 = 2.3000, 절편 = 79.0000\n",
      "epoch = 2000, 기울기 = 2.3000, 절편 = 79.0000\n"
     ]
    }
   ],
   "source": [
    "x_data = np.array(x)\n",
    "y_data = np.array(y)\n",
    "\n",
    "a = 0\n",
    "b = 0\n",
    "lr = 0.03\n",
    "\n",
    "epochs = 2001\n",
    "\n",
    "for i in range(epochs):\n",
    "    y_hat = a * x_data + b\n",
    "    error = y_data - y_hat\n",
    "    a_diff = -(2 / len(x_data)) * sum(x_data * (error))\n",
    "    b_diff = -(2 / len(x_data)) * sum(error)\n",
    "    a = a - lr * a_diff\n",
    "    b = b - lr * b_diff\n",
    "    if i % 100 == 0:\n",
    "        print('epoch = %.f, 기울기 = %.4f, 절편 = %.4f' % (i, a, b))"
   ]
  },
  {
   "cell_type": "code",
   "execution_count": 53,
   "id": "2c37a7bb",
   "metadata": {},
   "outputs": [
    {
     "data": {
      "text/plain": [
       "<matplotlib.collections.PathCollection at 0x24e4d03a790>"
      ]
     },
     "execution_count": 53,
     "metadata": {},
     "output_type": "execute_result"
    },
    {
     "data": {
      "image/png": "[encoded data removed]",
      "text/plain": [
       "<Figure size 432x288 with 1 Axes>"
      ]
     },
     "metadata": {
      "needs_background": "light"
     },
     "output_type": "display_data"
    }
   ],
   "source": [
    "import numpy as np\n",
    "import matplotlib.pyplot as plt\n",
    "%matplotlib inline\n",
    "\n",
    "np.random.seed(0)\n",
    "X = 2 * np.random.rand(100, 1)\n",
    "y = 6 + 4 * X + np.random.randn(100, 1)\n",
    "\n",
    "plt.scatter(X, y)"
   ]
  },
  {
   "cell_type": "code",
   "execution_count": 61,
   "id": "09bfa0a7",
   "metadata": {},
   "outputs": [],
   "source": [
    "def get_weight_updates(w1, w0, X, y, learning_rate = 0.01):\n",
    "    N = len(y)\n",
    "    \n",
    "    w1_update = np.zeros_like(w1)\n",
    "    w0_update = np.zeros_like(w0)\n",
    "    \n",
    "    y_pred = np.dot(X, w1.T) + w0\n",
    "    diff = y - y_pred\n",
    "    \n",
    "    w0_factors = np.ones((N, 1))\n",
    "    \n",
    "    w1_update = -(2 / N) * learning_rate * (np.dot(X.T, diff))\n",
    "    w0_update = -(2 / N) * learning_rate * (np.dot(w0_factors.T, diff))\n",
    "    \n",
    "    return w1_update, w0_update"
   ]
  },
  {
   "cell_type": "code",
   "execution_count": 62,
   "id": "f363b5eb",
   "metadata": {},
   "outputs": [],
   "source": [
    "def gradient_descent_steps(X, y, iters = 100000):\n",
    "    w0 = np.zeros((1, 1))\n",
    "    w1 = np.zeros((1, 1))\n",
    "    \n",
    "    for ind in range(iters):\n",
    "        w1_update, w0_update = get_weight_updates(w1, w0, X, y, learning_rate = 0.01)\n",
    "        w1 = w1 - w1_update\n",
    "        w0 = w0 - w0_update\n",
    "        \n",
    "    return w1, w0"
   ]
  },
  {
   "cell_type": "code",
   "execution_count": 63,
   "id": "6c7d68cf",
   "metadata": {},
   "outputs": [],
   "source": [
    "def get_cost(y, y_pred):\n",
    "    N = len(y)\n",
    "    cost = np.sum(np.square(y - y_pred))/N\n",
    "    return cost"
   ]
  },
  {
   "cell_type": "code",
   "execution_count": 64,
   "id": "2fc1403d",
   "metadata": {},
   "outputs": [
    {
     "name": "stdout",
     "output_type": "stream",
     "text": [
      "w1:4.022 w0:6.162\n",
      "Gradient descent total cost : 0.9935\n"
     ]
    }
   ],
   "source": [
    "w1, w0 = gradient_descent_steps(X, y, iters = 1000)\n",
    "print('w1:{0:.3f} w0:{1:.3f}'.format(w1[0,0], w0[0,0]))\n",
    "y_pred = w1[0,0] * X + w0\n",
    "print(\"Gradient descent total cost : {0:.4f}\".format(get_cost(y, y_pred)))"
   ]
  },
  {
   "cell_type": "code",
   "execution_count": null,
   "id": "4d7608dc",
   "metadata": {},
   "outputs": [],
   "source": []
  }
 ],
 "metadata": {
  "kernelspec": {
   "display_name": "Python 3",
   "language": "python",
   "name": "python3"
  },
  "language_info": {
   "codemirror_mode": {
    "name": "ipython",
    "version": 3
   },
   "file_extension": ".py",
   "mimetype": "text/x-python",
   "name": "python",
   "nbconvert_exporter": "python",
   "pygments_lexer": "ipython3",
   "version": "3.8.9"
  }
 },
 "nbformat": 4,
 "nbformat_minor": 5
}
